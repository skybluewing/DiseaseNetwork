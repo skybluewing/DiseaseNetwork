{
 "cells": [
  {
   "cell_type": "code",
   "execution_count": 2,
   "metadata": {},
   "outputs": [],
   "source": [
    "import networkx\n",
    "import obonet"
   ]
  },
  {
   "cell_type": "markdown",
   "metadata": {},
   "source": [
    "### Read the Gene Ontology"
   ]
  },
  {
   "cell_type": "code",
   "execution_count": 3,
   "metadata": {},
   "outputs": [
    {
     "name": "stdout",
     "output_type": "stream",
     "text": [
      "CPU times: user 1.85 s, sys: 165 ms, total: 2.02 s\n",
      "Wall time: 5.41 s\n"
     ]
    }
   ],
   "source": [
    "%%time\n",
    "url = 'https://raw.githubusercontent.com/obophenotype/human-phenotype-ontology/master/hp.obo'\n",
    "graph = obonet.read_obo(url)"
   ]
  },
  {
   "cell_type": "code",
   "execution_count": 4,
   "metadata": {},
   "outputs": [
    {
     "data": {
      "text/plain": [
       "14586"
      ]
     },
     "execution_count": 4,
     "metadata": {},
     "output_type": "execute_result"
    }
   ],
   "source": [
    "# Number of nodes\n",
    "len(graph)"
   ]
  },
  {
   "cell_type": "code",
   "execution_count": 5,
   "metadata": {},
   "outputs": [
    {
     "data": {
      "text/plain": [
       "18416"
      ]
     },
     "execution_count": 5,
     "metadata": {},
     "output_type": "execute_result"
    }
   ],
   "source": [
    "# Number of edges\n",
    "graph.number_of_edges()"
   ]
  },
  {
   "cell_type": "code",
   "execution_count": 6,
   "metadata": {},
   "outputs": [
    {
     "data": {
      "text/plain": [
       "True"
      ]
     },
     "execution_count": 6,
     "metadata": {},
     "output_type": "execute_result"
    }
   ],
   "source": [
    "# Check if the ontology is a DAG\n",
    "networkx.is_directed_acyclic_graph(graph)"
   ]
  },
  {
   "cell_type": "markdown",
   "metadata": {},
   "source": [
    "### Lookup node properties\n",
    "\n",
    "Returns a dictionary."
   ]
  },
  {
   "cell_type": "code",
   "execution_count": 7,
   "metadata": {},
   "outputs": [
    {
     "data": {
      "text/plain": [
       "{'name': 'Abnormal lingual artery morphology',\n",
       " 'def': '\"Any structural abnormality of a lingual artery.\" [GOC:TermGenie]',\n",
       " 'synonym': ['\"Abnormality of lingual artery\" EXACT []'],\n",
       " 'xref': ['UMLS:C4073281'],\n",
       " 'is_a': ['HP:0011004', 'HP:0030809', 'HP:3000036'],\n",
       " 'created_by': 'vasilevs',\n",
       " 'creation_date': '2015-08-07T03:39:06Z'}"
      ]
     },
     "execution_count": 7,
     "metadata": {},
     "output_type": "execute_result"
    }
   ],
   "source": [
    "# Retreive properties of HP:3000074\n",
    "graph.node['HP:3000074']"
   ]
  },
  {
   "cell_type": "code",
   "execution_count": 8,
   "metadata": {},
   "outputs": [
    {
     "data": {
      "text/plain": [
       "{'name': 'Meningitis',\n",
       " 'def': '\"Inflammation of the meninges.\" [HPO:probinson]',\n",
       " 'xref': ['MSH:D008581', 'SNOMEDCT_US:7180009', 'UMLS:C0025289'],\n",
       " 'is_a': ['HP:0011450']}"
      ]
     },
     "execution_count": 8,
     "metadata": {},
     "output_type": "execute_result"
    }
   ],
   "source": [
    "# Retreive properties of HP:0001287\n",
    "graph.node['HP:0001287']"
   ]
  },
  {
   "cell_type": "markdown",
   "metadata": {},
   "source": [
    "### Create name mappings\n"
   ]
  },
  {
   "cell_type": "code",
   "execution_count": 9,
   "metadata": {},
   "outputs": [],
   "source": [
    "id_to_name = {id_: data.get('name') for id_, data in graph.nodes(data=True)}\n",
    "name_to_id = {data['name']: id_ for id_, data in graph.nodes(data=True) if 'name' in data}"
   ]
  },
  {
   "cell_type": "code",
   "execution_count": 10,
   "metadata": {},
   "outputs": [
    {
     "data": {
      "text/plain": [
       "'Meningitis'"
      ]
     },
     "execution_count": 10,
     "metadata": {},
     "output_type": "execute_result"
    }
   ],
   "source": [
    "# Get the name for HP:0001287\n",
    "id_to_name['HP:0001287']"
   ]
  },
  {
   "cell_type": "code",
   "execution_count": 12,
   "metadata": {},
   "outputs": [
    {
     "data": {
      "text/plain": [
       "'Hypogonadism'"
      ]
     },
     "execution_count": 12,
     "metadata": {},
     "output_type": "execute_result"
    }
   ],
   "source": [
    "id_to_name['HP:0000135']"
   ]
  },
  {
   "cell_type": "code",
   "execution_count": null,
   "metadata": {},
   "outputs": [],
   "source": [
    "id_to_name"
   ]
  },
  {
   "cell_type": "code",
   "execution_count": 10,
   "metadata": {},
   "outputs": [
    {
     "data": {
      "text/plain": [
       "'HP:0001287'"
      ]
     },
     "execution_count": 10,
     "metadata": {},
     "output_type": "execute_result"
    }
   ],
   "source": [
    "# Get the id for Meningitis\n",
    "name_to_id['Meningitis']"
   ]
  },
  {
   "cell_type": "markdown",
   "metadata": {},
   "source": [
    "### Find parent or child relationships"
   ]
  },
  {
   "cell_type": "code",
   "execution_count": 31,
   "metadata": {},
   "outputs": [
    {
     "name": "stdout",
     "output_type": "stream",
     "text": [
      "• Abnormality of cartilage of nasal septum ⟶ is_a ⟶ Abnormality of the nasal septum\n",
      "• Abnormality of cartilage of nasal septum ⟶ is_a ⟶ Abnormality of the nasal skeleton\n",
      "• Abnormality of cartilage of nasal septum ⟶ is_a ⟶ Abnormality of cartilage morphology\n"
     ]
    }
   ],
   "source": [
    "# Find edges to parent terms\n",
    "node = name_to_id['Abnormality of cartilage of nasal septum']\n",
    "for child, parent, key in graph.out_edges(node, keys=True):\n",
    "    print(f'• {id_to_name[child]} ⟶ {key} ⟶ {id_to_name[parent]}')"
   ]
  },
  {
   "cell_type": "code",
   "execution_count": 12,
   "metadata": {},
   "outputs": [
    {
     "name": "stdout",
     "output_type": "stream",
     "text": [
      "• Meningitis ⟵ is_a ⟵ Chronic lymphocytic meningitis\n",
      "• Meningitis ⟵ is_a ⟵ Fungal meningitis\n"
     ]
    }
   ],
   "source": [
    "# Find edges to children terms\n",
    "node = name_to_id['Meningitis']\n",
    "for parent, child, key in graph.in_edges(node, keys=True):\n",
    "    print(f'• {id_to_name[child]} ⟵ {key} ⟵ {id_to_name[parent]}')"
   ]
  },
  {
   "cell_type": "markdown",
   "metadata": {},
   "source": [
    "### Find all superterms of myelination"
   ]
  },
  {
   "cell_type": "code",
   "execution_count": 17,
   "metadata": {},
   "outputs": [
    {
     "data": {
      "text/plain": [
       "['Abnormality of immune system physiology',\n",
       " 'Abnormality of nervous system morphology',\n",
       " 'Abnormality of the immune system',\n",
       " 'Abnormality of the nervous system',\n",
       " 'All',\n",
       " 'Morphological abnormality of the central nervous system',\n",
       " 'Phenotypic abnormality',\n",
       " 'Unusual CNS infection',\n",
       " 'Unusual infection',\n",
       " 'Unusual infection by anatomical site']"
      ]
     },
     "execution_count": 17,
     "metadata": {},
     "output_type": "execute_result"
    }
   ],
   "source": [
    "sorted(id_to_name[superterm] for superterm in networkx.descendants(graph, 'HP:0001287'))"
   ]
  },
  {
   "cell_type": "markdown",
   "metadata": {},
   "source": [
    "### Find all subterms of myelination"
   ]
  },
  {
   "cell_type": "code",
   "execution_count": 18,
   "metadata": {},
   "outputs": [
    {
     "data": {
      "text/plain": [
       "['Chronic lymphocytic meningitis',\n",
       " 'Coccidioidal meningitis',\n",
       " 'Cryptococcal meningitis',\n",
       " 'Fungal meningitis']"
      ]
     },
     "execution_count": 18,
     "metadata": {},
     "output_type": "execute_result"
    }
   ],
   "source": [
    "sorted(id_to_name[subterm] for subterm in networkx.ancestors(graph, 'HP:0001287'))"
   ]
  },
  {
   "cell_type": "markdown",
   "metadata": {},
   "source": [
    "### Find all paths to the root"
   ]
  },
  {
   "cell_type": "code",
   "execution_count": 24,
   "metadata": {
    "scrolled": true
   },
   "outputs": [
    {
     "name": "stdout",
     "output_type": "stream",
     "text": [
      "• Meningitis ⟶ Unusual CNS infection ⟶ Morphological abnormality of the central nervous system ⟶ Abnormality of nervous system morphology ⟶ Abnormality of the nervous system ⟶ Phenotypic abnormality ⟶ All\n",
      "• Meningitis ⟶ Unusual CNS infection ⟶ Unusual infection by anatomical site ⟶ Unusual infection ⟶ Abnormality of immune system physiology ⟶ Abnormality of the immune system ⟶ Phenotypic abnormality ⟶ All\n"
     ]
    }
   ],
   "source": [
    "paths = networkx.all_simple_paths(\n",
    "    graph,\n",
    "    source=name_to_id['Meningitis'],\n",
    "    target=name_to_id['All']\n",
    ")\n",
    "for path in paths:\n",
    "    print('•', ' ⟶ '.join(id_to_name[node] for node in path))"
   ]
  },
  {
   "cell_type": "markdown",
   "metadata": {},
   "source": [
    "### See the ontology metadata"
   ]
  },
  {
   "cell_type": "code",
   "execution_count": 25,
   "metadata": {},
   "outputs": [
    {
     "data": {
      "text/plain": [
       "{'name': 'hp.obo',\n",
       " 'typedefs': [],\n",
       " 'instances': [],\n",
       " 'format-version': '1.2',\n",
       " 'data-version': 'hp/releases/2019-09-06',\n",
       " 'saved-by': 'Peter Robinson, Sebastian Koehler, Sandra Doelken, Chris Mungall, Melissa Haendel, Nicole Vasilevsky, Monarch Initiative, et al.',\n",
       " 'subsetdef': ['hposlim_core \"Core clinical terminology\"',\n",
       "  'secondary_consequence \"Consequence of a disorder in another organ system.\"'],\n",
       " 'synonymtypedef': ['HP:0031859 \"obsolete synonym\"',\n",
       "  'HP:0045076 \"UK spelling\"',\n",
       "  'HP:0045077 \"abbreviation\"',\n",
       "  'HP:0045078 \"plural form\"',\n",
       "  'layperson \"layperson term\"'],\n",
       " 'default-namespace': ['human_phenotype'],\n",
       " 'remark': ['Please see license of HPO at http://www.human-phenotype-ontology.org'],\n",
       " 'ontology': 'hp.obo',\n",
       " 'property_value': ['http://purl.org/dc/elements/1.1/creator \"Human Phenotype Ontology Consortium\" xsd:string',\n",
       "  'http://purl.org/dc/elements/1.1/creator \"Monarch Initiative\" xsd:string',\n",
       "  'http://purl.org/dc/elements/1.1/creator \"Peter Robinson\" xsd:string',\n",
       "  'http://purl.org/dc/elements/1.1/creator \"Sebastian Köhler\" xsd:string',\n",
       "  'http://purl.org/dc/elements/1.1/description \"The Human Phenotype Ontology (HPO) provides a standardized vocabulary of phenotypic abnormalities and clinical features encountered in human disease.\" xsd:string',\n",
       "  'http://purl.org/dc/elements/1.1/license https://hpo.jax.org/app/license xsd:string',\n",
       "  'http://purl.org/dc/elements/1.1/rights \"Peter Robinson, Sebastian Koehler, The Human Phenotype Ontology Consortium, and The Monarch Initiative\" xsd:string',\n",
       "  'http://purl.org/dc/elements/1.1/subject \"Phenotypic abnormalities encountered in human disease\" xsd:string',\n",
       "  'http://purl.org/dc/elements/1.1/title \"Human Phenotype Ontology\" xsd:string',\n",
       "  'http://purl.org/dc/terms/license https://hpo.jax.org/app/license xsd:string'],\n",
       " 'logical-definition-view-relation': ['has_part']}"
      ]
     },
     "execution_count": 25,
     "metadata": {},
     "output_type": "execute_result"
    }
   ],
   "source": [
    "graph.graph"
   ]
  },
  {
   "cell_type": "markdown",
   "metadata": {},
   "source": [
    "### Phenotype-Disease Table"
   ]
  },
  {
   "cell_type": "code",
   "execution_count": 15,
   "metadata": {},
   "outputs": [
    {
     "name": "stderr",
     "output_type": "stream",
     "text": [
      "/Users/apple/opt/anaconda3/lib/python3.7/site-packages/IPython/core/interactiveshell.py:3058: DtypeWarning: Columns (3,7,11,13) have mixed types. Specify dtype option on import or set low_memory=False.\n",
      "  interactivity=interactivity, compiler=compiler, result=result)\n"
     ]
    },
    {
     "data": {
      "text/html": [
       "<div>\n",
       "<style scoped>\n",
       "    .dataframe tbody tr th:only-of-type {\n",
       "        vertical-align: middle;\n",
       "    }\n",
       "\n",
       "    .dataframe tbody tr th {\n",
       "        vertical-align: top;\n",
       "    }\n",
       "\n",
       "    .dataframe thead th {\n",
       "        text-align: right;\n",
       "    }\n",
       "</style>\n",
       "<table border=\"1\" class=\"dataframe\">\n",
       "  <thead>\n",
       "    <tr style=\"text-align: right;\">\n",
       "      <th></th>\n",
       "      <th>0</th>\n",
       "      <th>1</th>\n",
       "      <th>2</th>\n",
       "      <th>3</th>\n",
       "      <th>4</th>\n",
       "      <th>5</th>\n",
       "      <th>6</th>\n",
       "      <th>7</th>\n",
       "      <th>8</th>\n",
       "      <th>9</th>\n",
       "      <th>10</th>\n",
       "      <th>11</th>\n",
       "      <th>12</th>\n",
       "      <th>13</th>\n",
       "    </tr>\n",
       "  </thead>\n",
       "  <tbody>\n",
       "    <tr>\n",
       "      <td>0</td>\n",
       "      <td>DECIPHER</td>\n",
       "      <td>1</td>\n",
       "      <td>Wolf-Hirschhorn Syndrome</td>\n",
       "      <td>NaN</td>\n",
       "      <td>HP:0000252</td>\n",
       "      <td>DECIPHER:1</td>\n",
       "      <td>IEA</td>\n",
       "      <td>NaN</td>\n",
       "      <td>NaN</td>\n",
       "      <td>NaN</td>\n",
       "      <td>P</td>\n",
       "      <td>WOLF-HIRSCHHORN SYNDROME</td>\n",
       "      <td>HPO:skoehler[2013-05-29]</td>\n",
       "      <td>NaN</td>\n",
       "    </tr>\n",
       "    <tr>\n",
       "      <td>1</td>\n",
       "      <td>DECIPHER</td>\n",
       "      <td>1</td>\n",
       "      <td>Wolf-Hirschhorn Syndrome</td>\n",
       "      <td>NaN</td>\n",
       "      <td>HP:0001249</td>\n",
       "      <td>DECIPHER:1</td>\n",
       "      <td>IEA</td>\n",
       "      <td>NaN</td>\n",
       "      <td>NaN</td>\n",
       "      <td>NaN</td>\n",
       "      <td>P</td>\n",
       "      <td>WOLF-HIRSCHHORN SYNDROME</td>\n",
       "      <td>HPO:skoehler[2013-05-29]</td>\n",
       "      <td>NaN</td>\n",
       "    </tr>\n",
       "    <tr>\n",
       "      <td>2</td>\n",
       "      <td>DECIPHER</td>\n",
       "      <td>1</td>\n",
       "      <td>Wolf-Hirschhorn Syndrome</td>\n",
       "      <td>NaN</td>\n",
       "      <td>HP:0001250</td>\n",
       "      <td>DECIPHER:1</td>\n",
       "      <td>IEA</td>\n",
       "      <td>NaN</td>\n",
       "      <td>NaN</td>\n",
       "      <td>NaN</td>\n",
       "      <td>P</td>\n",
       "      <td>WOLF-HIRSCHHORN SYNDROME</td>\n",
       "      <td>HPO:skoehler[2013-05-29]</td>\n",
       "      <td>NaN</td>\n",
       "    </tr>\n",
       "  </tbody>\n",
       "</table>\n",
       "</div>"
      ],
      "text/plain": [
       "         0   1                         2    3           4           5    6   \\\n",
       "0  DECIPHER   1  Wolf-Hirschhorn Syndrome  NaN  HP:0000252  DECIPHER:1  IEA   \n",
       "1  DECIPHER   1  Wolf-Hirschhorn Syndrome  NaN  HP:0001249  DECIPHER:1  IEA   \n",
       "2  DECIPHER   1  Wolf-Hirschhorn Syndrome  NaN  HP:0001250  DECIPHER:1  IEA   \n",
       "\n",
       "    7    8   9  10                        11                        12   13  \n",
       "0  NaN  NaN NaN  P  WOLF-HIRSCHHORN SYNDROME  HPO:skoehler[2013-05-29]  NaN  \n",
       "1  NaN  NaN NaN  P  WOLF-HIRSCHHORN SYNDROME  HPO:skoehler[2013-05-29]  NaN  \n",
       "2  NaN  NaN NaN  P  WOLF-HIRSCHHORN SYNDROME  HPO:skoehler[2013-05-29]  NaN  "
      ]
     },
     "execution_count": 15,
     "metadata": {},
     "output_type": "execute_result"
    }
   ],
   "source": [
    "import pandas as pd\n",
    "data = pd.read_csv(\"phenotype.txt\", sep='\\t', header=None)\n",
    "data.head(3)"
   ]
  },
  {
   "cell_type": "code",
   "execution_count": 20,
   "metadata": {},
   "outputs": [
    {
     "data": {
      "text/html": [
       "<div>\n",
       "<style scoped>\n",
       "    .dataframe tbody tr th:only-of-type {\n",
       "        vertical-align: middle;\n",
       "    }\n",
       "\n",
       "    .dataframe tbody tr th {\n",
       "        vertical-align: top;\n",
       "    }\n",
       "\n",
       "    .dataframe thead th {\n",
       "        text-align: right;\n",
       "    }\n",
       "</style>\n",
       "<table border=\"1\" class=\"dataframe\">\n",
       "  <thead>\n",
       "    <tr style=\"text-align: right;\">\n",
       "      <th></th>\n",
       "      <th>syndrome</th>\n",
       "      <th>disease_id</th>\n",
       "    </tr>\n",
       "  </thead>\n",
       "  <tbody>\n",
       "    <tr>\n",
       "      <td>0</td>\n",
       "      <td>Wolf-Hirschhorn Syndrome</td>\n",
       "      <td>HP:0000252</td>\n",
       "    </tr>\n",
       "    <tr>\n",
       "      <td>1</td>\n",
       "      <td>Wolf-Hirschhorn Syndrome</td>\n",
       "      <td>HP:0001249</td>\n",
       "    </tr>\n",
       "    <tr>\n",
       "      <td>2</td>\n",
       "      <td>Wolf-Hirschhorn Syndrome</td>\n",
       "      <td>HP:0001250</td>\n",
       "    </tr>\n",
       "  </tbody>\n",
       "</table>\n",
       "</div>"
      ],
      "text/plain": [
       "                   syndrome  disease_id\n",
       "0  Wolf-Hirschhorn Syndrome  HP:0000252\n",
       "1  Wolf-Hirschhorn Syndrome  HP:0001249\n",
       "2  Wolf-Hirschhorn Syndrome  HP:0001250"
      ]
     },
     "execution_count": 20,
     "metadata": {},
     "output_type": "execute_result"
    }
   ],
   "source": [
    "syn_disease = data.iloc[:, [2, 4]]\n",
    "syn_disease.columns = ['syndrome', 'disease_id']\n",
    "syn_disease.head(3)"
   ]
  },
  {
   "cell_type": "code",
   "execution_count": 21,
   "metadata": {},
   "outputs": [
    {
     "data": {
      "text/plain": [
       "182022"
      ]
     },
     "execution_count": 21,
     "metadata": {},
     "output_type": "execute_result"
    }
   ],
   "source": [
    "len(syn_disease)"
   ]
  },
  {
   "cell_type": "code",
   "execution_count": 24,
   "metadata": {},
   "outputs": [
    {
     "name": "stderr",
     "output_type": "stream",
     "text": [
      "/Users/apple/opt/anaconda3/lib/python3.7/site-packages/ipykernel_launcher.py:2: SettingWithCopyWarning: \n",
      "A value is trying to be set on a copy of a slice from a DataFrame.\n",
      "Try using .loc[row_indexer,col_indexer] = value instead\n",
      "\n",
      "See the caveats in the documentation: http://pandas.pydata.org/pandas-docs/stable/user_guide/indexing.html#returning-a-view-versus-a-copy\n",
      "  \n"
     ]
    },
    {
     "data": {
      "text/html": [
       "<div>\n",
       "<style scoped>\n",
       "    .dataframe tbody tr th:only-of-type {\n",
       "        vertical-align: middle;\n",
       "    }\n",
       "\n",
       "    .dataframe tbody tr th {\n",
       "        vertical-align: top;\n",
       "    }\n",
       "\n",
       "    .dataframe thead th {\n",
       "        text-align: right;\n",
       "    }\n",
       "</style>\n",
       "<table border=\"1\" class=\"dataframe\">\n",
       "  <thead>\n",
       "    <tr style=\"text-align: right;\">\n",
       "      <th></th>\n",
       "      <th>syndrome</th>\n",
       "      <th>disease_id</th>\n",
       "      <th>disease</th>\n",
       "    </tr>\n",
       "  </thead>\n",
       "  <tbody>\n",
       "    <tr>\n",
       "      <td>0</td>\n",
       "      <td>Wolf-Hirschhorn Syndrome</td>\n",
       "      <td>HP:0000252</td>\n",
       "      <td>Microcephaly</td>\n",
       "    </tr>\n",
       "    <tr>\n",
       "      <td>1</td>\n",
       "      <td>Wolf-Hirschhorn Syndrome</td>\n",
       "      <td>HP:0001249</td>\n",
       "      <td>Intellectual disability</td>\n",
       "    </tr>\n",
       "    <tr>\n",
       "      <td>2</td>\n",
       "      <td>Wolf-Hirschhorn Syndrome</td>\n",
       "      <td>HP:0001250</td>\n",
       "      <td>Seizures</td>\n",
       "    </tr>\n",
       "  </tbody>\n",
       "</table>\n",
       "</div>"
      ],
      "text/plain": [
       "                   syndrome  disease_id                  disease\n",
       "0  Wolf-Hirschhorn Syndrome  HP:0000252             Microcephaly\n",
       "1  Wolf-Hirschhorn Syndrome  HP:0001249  Intellectual disability\n",
       "2  Wolf-Hirschhorn Syndrome  HP:0001250                 Seizures"
      ]
     },
     "execution_count": 24,
     "metadata": {},
     "output_type": "execute_result"
    }
   ],
   "source": [
    "# link disease id to disease\n",
    "syn_disease['disease'] = syn_disease['disease_id'].map(id_to_name)\n",
    "syn_disease.head(3)"
   ]
  },
  {
   "cell_type": "code",
   "execution_count": 25,
   "metadata": {},
   "outputs": [
    {
     "data": {
      "text/html": [
       "<div>\n",
       "<style scoped>\n",
       "    .dataframe tbody tr th:only-of-type {\n",
       "        vertical-align: middle;\n",
       "    }\n",
       "\n",
       "    .dataframe tbody tr th {\n",
       "        vertical-align: top;\n",
       "    }\n",
       "\n",
       "    .dataframe thead th {\n",
       "        text-align: right;\n",
       "    }\n",
       "</style>\n",
       "<table border=\"1\" class=\"dataframe\">\n",
       "  <thead>\n",
       "    <tr style=\"text-align: right;\">\n",
       "      <th></th>\n",
       "      <th>syndrome</th>\n",
       "      <th>disease_id</th>\n",
       "      <th>disease</th>\n",
       "    </tr>\n",
       "  </thead>\n",
       "  <tbody>\n",
       "    <tr>\n",
       "      <td>0</td>\n",
       "      <td>Wolf-Hirschhorn Syndrome</td>\n",
       "      <td>HP:0000252</td>\n",
       "      <td>Microcephaly</td>\n",
       "    </tr>\n",
       "    <tr>\n",
       "      <td>36</td>\n",
       "      <td>Cri du Chat Syndrome (5p deletion)</td>\n",
       "      <td>HP:0000252</td>\n",
       "      <td>Microcephaly</td>\n",
       "    </tr>\n",
       "    <tr>\n",
       "      <td>44</td>\n",
       "      <td>Miller-Dieker syndrome (MDS)</td>\n",
       "      <td>HP:0000252</td>\n",
       "      <td>Microcephaly</td>\n",
       "    </tr>\n",
       "    <tr>\n",
       "      <td>91</td>\n",
       "      <td>Angelman syndrome (Type 1)</td>\n",
       "      <td>HP:0000252</td>\n",
       "      <td>Microcephaly</td>\n",
       "    </tr>\n",
       "    <tr>\n",
       "      <td>116</td>\n",
       "      <td>Xq28 (MECP2) duplication</td>\n",
       "      <td>HP:0000252</td>\n",
       "      <td>Microcephaly</td>\n",
       "    </tr>\n",
       "    <tr>\n",
       "      <td>...</td>\n",
       "      <td>...</td>\n",
       "      <td>...</td>\n",
       "      <td>...</td>\n",
       "    </tr>\n",
       "    <tr>\n",
       "      <td>180385</td>\n",
       "      <td>PAGOD syndrome</td>\n",
       "      <td>HP:0000252</td>\n",
       "      <td>Microcephaly</td>\n",
       "    </tr>\n",
       "    <tr>\n",
       "      <td>180968</td>\n",
       "      <td>Amish lethal microcephaly</td>\n",
       "      <td>HP:0000252</td>\n",
       "      <td>Microcephaly</td>\n",
       "    </tr>\n",
       "    <tr>\n",
       "      <td>181072</td>\n",
       "      <td>Mosaic trisomy 9</td>\n",
       "      <td>HP:0000252</td>\n",
       "      <td>Microcephaly</td>\n",
       "    </tr>\n",
       "    <tr>\n",
       "      <td>181165</td>\n",
       "      <td>LIG4 syndrome</td>\n",
       "      <td>HP:0000252</td>\n",
       "      <td>Microcephaly</td>\n",
       "    </tr>\n",
       "    <tr>\n",
       "      <td>181760</td>\n",
       "      <td>Ermine phenotype</td>\n",
       "      <td>HP:0000252</td>\n",
       "      <td>Microcephaly</td>\n",
       "    </tr>\n",
       "  </tbody>\n",
       "</table>\n",
       "<p>1287 rows × 3 columns</p>\n",
       "</div>"
      ],
      "text/plain": [
       "                                  syndrome  disease_id       disease\n",
       "0                 Wolf-Hirschhorn Syndrome  HP:0000252  Microcephaly\n",
       "36      Cri du Chat Syndrome (5p deletion)  HP:0000252  Microcephaly\n",
       "44            Miller-Dieker syndrome (MDS)  HP:0000252  Microcephaly\n",
       "91              Angelman syndrome (Type 1)  HP:0000252  Microcephaly\n",
       "116               Xq28 (MECP2) duplication  HP:0000252  Microcephaly\n",
       "...                                    ...         ...           ...\n",
       "180385                      PAGOD syndrome  HP:0000252  Microcephaly\n",
       "180968           Amish lethal microcephaly  HP:0000252  Microcephaly\n",
       "181072                    Mosaic trisomy 9  HP:0000252  Microcephaly\n",
       "181165                       LIG4 syndrome  HP:0000252  Microcephaly\n",
       "181760                    Ermine phenotype  HP:0000252  Microcephaly\n",
       "\n",
       "[1287 rows x 3 columns]"
      ]
     },
     "execution_count": 25,
     "metadata": {},
     "output_type": "execute_result"
    }
   ],
   "source": [
    "syn_disease[syn_disease['disease'] == 'Microcephaly']"
   ]
  },
  {
   "cell_type": "code",
   "execution_count": 26,
   "metadata": {},
   "outputs": [
    {
     "data": {
      "text/html": [
       "<div>\n",
       "<style scoped>\n",
       "    .dataframe tbody tr th:only-of-type {\n",
       "        vertical-align: middle;\n",
       "    }\n",
       "\n",
       "    .dataframe tbody tr th {\n",
       "        vertical-align: top;\n",
       "    }\n",
       "\n",
       "    .dataframe thead th {\n",
       "        text-align: right;\n",
       "    }\n",
       "</style>\n",
       "<table border=\"1\" class=\"dataframe\">\n",
       "  <thead>\n",
       "    <tr style=\"text-align: right;\">\n",
       "      <th></th>\n",
       "      <th>syndrome</th>\n",
       "      <th>disease_id</th>\n",
       "      <th>disease</th>\n",
       "    </tr>\n",
       "  </thead>\n",
       "  <tbody>\n",
       "  </tbody>\n",
       "</table>\n",
       "</div>"
      ],
      "text/plain": [
       "Empty DataFrame\n",
       "Columns: [syndrome, disease_id, disease]\n",
       "Index: []"
      ]
     },
     "execution_count": 26,
     "metadata": {},
     "output_type": "execute_result"
    }
   ],
   "source": [
    "syn_disease[syn_disease['syndrome'] == 'Microcephaly']"
   ]
  },
  {
   "cell_type": "code",
   "execution_count": 28,
   "metadata": {},
   "outputs": [
    {
     "data": {
      "text/html": [
       "<div>\n",
       "<style scoped>\n",
       "    .dataframe tbody tr th:only-of-type {\n",
       "        vertical-align: middle;\n",
       "    }\n",
       "\n",
       "    .dataframe tbody tr th {\n",
       "        vertical-align: top;\n",
       "    }\n",
       "\n",
       "    .dataframe thead th {\n",
       "        text-align: right;\n",
       "    }\n",
       "</style>\n",
       "<table border=\"1\" class=\"dataframe\">\n",
       "  <thead>\n",
       "    <tr style=\"text-align: right;\">\n",
       "      <th></th>\n",
       "      <th>syndrome</th>\n",
       "      <th>disease_id</th>\n",
       "      <th>disease</th>\n",
       "    </tr>\n",
       "  </thead>\n",
       "  <tbody>\n",
       "    <tr>\n",
       "      <td>0</td>\n",
       "      <td>Wolf-Hirschhorn Syndrome</td>\n",
       "      <td>HP:0000252</td>\n",
       "      <td>Microcephaly</td>\n",
       "    </tr>\n",
       "    <tr>\n",
       "      <td>1</td>\n",
       "      <td>Wolf-Hirschhorn Syndrome</td>\n",
       "      <td>HP:0001249</td>\n",
       "      <td>Intellectual disability</td>\n",
       "    </tr>\n",
       "    <tr>\n",
       "      <td>2</td>\n",
       "      <td>Wolf-Hirschhorn Syndrome</td>\n",
       "      <td>HP:0001250</td>\n",
       "      <td>Seizures</td>\n",
       "    </tr>\n",
       "    <tr>\n",
       "      <td>3</td>\n",
       "      <td>Wolf-Hirschhorn Syndrome</td>\n",
       "      <td>HP:0001252</td>\n",
       "      <td>Muscular hypotonia</td>\n",
       "    </tr>\n",
       "    <tr>\n",
       "      <td>4</td>\n",
       "      <td>Wolf-Hirschhorn Syndrome</td>\n",
       "      <td>HP:0001518</td>\n",
       "      <td>Small for gestational age</td>\n",
       "    </tr>\n",
       "    <tr>\n",
       "      <td>...</td>\n",
       "      <td>...</td>\n",
       "      <td>...</td>\n",
       "      <td>...</td>\n",
       "    </tr>\n",
       "    <tr>\n",
       "      <td>182017</td>\n",
       "      <td>Klatskin tumor</td>\n",
       "      <td>HP:0002716</td>\n",
       "      <td>Lymphadenopathy</td>\n",
       "    </tr>\n",
       "    <tr>\n",
       "      <td>182018</td>\n",
       "      <td>Klatskin tumor</td>\n",
       "      <td>HP:0004936</td>\n",
       "      <td>Venous thrombosis</td>\n",
       "    </tr>\n",
       "    <tr>\n",
       "      <td>182019</td>\n",
       "      <td>Klatskin tumor</td>\n",
       "      <td>HP:0012334</td>\n",
       "      <td>Extrahepatic cholestasis</td>\n",
       "    </tr>\n",
       "    <tr>\n",
       "      <td>182020</td>\n",
       "      <td>Klatskin tumor</td>\n",
       "      <td>HP:0012378</td>\n",
       "      <td>Fatigue</td>\n",
       "    </tr>\n",
       "    <tr>\n",
       "      <td>182021</td>\n",
       "      <td>Klatskin tumor</td>\n",
       "      <td>HP:0030153</td>\n",
       "      <td>Cholangiocarcinoma</td>\n",
       "    </tr>\n",
       "  </tbody>\n",
       "</table>\n",
       "<p>182022 rows × 3 columns</p>\n",
       "</div>"
      ],
      "text/plain": [
       "                        syndrome  disease_id                    disease\n",
       "0       Wolf-Hirschhorn Syndrome  HP:0000252               Microcephaly\n",
       "1       Wolf-Hirschhorn Syndrome  HP:0001249    Intellectual disability\n",
       "2       Wolf-Hirschhorn Syndrome  HP:0001250                   Seizures\n",
       "3       Wolf-Hirschhorn Syndrome  HP:0001252         Muscular hypotonia\n",
       "4       Wolf-Hirschhorn Syndrome  HP:0001518  Small for gestational age\n",
       "...                          ...         ...                        ...\n",
       "182017            Klatskin tumor  HP:0002716            Lymphadenopathy\n",
       "182018            Klatskin tumor  HP:0004936          Venous thrombosis\n",
       "182019            Klatskin tumor  HP:0012334   Extrahepatic cholestasis\n",
       "182020            Klatskin tumor  HP:0012378                    Fatigue\n",
       "182021            Klatskin tumor  HP:0030153         Cholangiocarcinoma\n",
       "\n",
       "[182022 rows x 3 columns]"
      ]
     },
     "execution_count": 28,
     "metadata": {},
     "output_type": "execute_result"
    }
   ],
   "source": [
    "syn_disease"
   ]
  },
  {
   "cell_type": "code",
   "execution_count": 31,
   "metadata": {},
   "outputs": [
    {
     "data": {
      "text/html": [
       "<div>\n",
       "<style scoped>\n",
       "    .dataframe tbody tr th:only-of-type {\n",
       "        vertical-align: middle;\n",
       "    }\n",
       "\n",
       "    .dataframe tbody tr th {\n",
       "        vertical-align: top;\n",
       "    }\n",
       "\n",
       "    .dataframe thead th {\n",
       "        text-align: right;\n",
       "    }\n",
       "</style>\n",
       "<table border=\"1\" class=\"dataframe\">\n",
       "  <thead>\n",
       "    <tr style=\"text-align: right;\">\n",
       "      <th></th>\n",
       "      <th>MeSH Symptom Term</th>\n",
       "      <th>MeSH Disease Term</th>\n",
       "      <th>PubMed occurrence</th>\n",
       "      <th>TFIDF score</th>\n",
       "    </tr>\n",
       "  </thead>\n",
       "  <tbody>\n",
       "    <tr>\n",
       "      <td>0</td>\n",
       "      <td>Aging, Premature</td>\n",
       "      <td>Respiratory Syncytial Virus Infections</td>\n",
       "      <td>1</td>\n",
       "      <td>3.464551</td>\n",
       "    </tr>\n",
       "    <tr>\n",
       "      <td>1</td>\n",
       "      <td>Aging, Premature</td>\n",
       "      <td>Orthomyxoviridae Infections</td>\n",
       "      <td>1</td>\n",
       "      <td>3.464551</td>\n",
       "    </tr>\n",
       "    <tr>\n",
       "      <td>2</td>\n",
       "      <td>Aging, Premature</td>\n",
       "      <td>HIV Infections</td>\n",
       "      <td>3</td>\n",
       "      <td>10.393654</td>\n",
       "    </tr>\n",
       "  </tbody>\n",
       "</table>\n",
       "</div>"
      ],
      "text/plain": [
       "  MeSH Symptom Term                       MeSH Disease Term  \\\n",
       "0  Aging, Premature  Respiratory Syncytial Virus Infections   \n",
       "1  Aging, Premature             Orthomyxoviridae Infections   \n",
       "2  Aging, Premature                          HIV Infections   \n",
       "\n",
       "   PubMed occurrence  TFIDF score  \n",
       "0                  1     3.464551  \n",
       "1                  1     3.464551  \n",
       "2                  3    10.393654  "
      ]
     },
     "execution_count": 31,
     "metadata": {},
     "output_type": "execute_result"
    }
   ],
   "source": [
    "import pandas as pd\n",
    "network = pd.read_csv(\"data3.txt\", sep='\\t')\n",
    "network.head(3)"
   ]
  },
  {
   "cell_type": "code",
   "execution_count": 30,
   "metadata": {},
   "outputs": [
    {
     "data": {
      "text/plain": [
       "147979"
      ]
     },
     "execution_count": 30,
     "metadata": {},
     "output_type": "execute_result"
    }
   ],
   "source": [
    "len(network)"
   ]
  },
  {
   "cell_type": "code",
   "execution_count": 32,
   "metadata": {},
   "outputs": [
    {
     "data": {
      "text/html": [
       "<div>\n",
       "<style scoped>\n",
       "    .dataframe tbody tr th:only-of-type {\n",
       "        vertical-align: middle;\n",
       "    }\n",
       "\n",
       "    .dataframe tbody tr th {\n",
       "        vertical-align: top;\n",
       "    }\n",
       "\n",
       "    .dataframe thead th {\n",
       "        text-align: right;\n",
       "    }\n",
       "</style>\n",
       "<table border=\"1\" class=\"dataframe\">\n",
       "  <thead>\n",
       "    <tr style=\"text-align: right;\">\n",
       "      <th></th>\n",
       "      <th>MeSH Symptom Term</th>\n",
       "      <th>MeSH Disease Term</th>\n",
       "      <th>PubMed occurrence</th>\n",
       "      <th>TFIDF score</th>\n",
       "    </tr>\n",
       "  </thead>\n",
       "  <tbody>\n",
       "    <tr>\n",
       "      <td>2</td>\n",
       "      <td>Aging, Premature</td>\n",
       "      <td>HIV Infections</td>\n",
       "      <td>3</td>\n",
       "      <td>10.393654</td>\n",
       "    </tr>\n",
       "    <tr>\n",
       "      <td>180</td>\n",
       "      <td>Asthenia</td>\n",
       "      <td>HIV Infections</td>\n",
       "      <td>4</td>\n",
       "      <td>8.252877</td>\n",
       "    </tr>\n",
       "    <tr>\n",
       "      <td>1044</td>\n",
       "      <td>Fever</td>\n",
       "      <td>HIV Infections</td>\n",
       "      <td>153</td>\n",
       "      <td>94.697458</td>\n",
       "    </tr>\n",
       "    <tr>\n",
       "      <td>3075</td>\n",
       "      <td>Fever of Unknown Origin</td>\n",
       "      <td>HIV Infections</td>\n",
       "      <td>59</td>\n",
       "      <td>86.916140</td>\n",
       "    </tr>\n",
       "    <tr>\n",
       "      <td>3892</td>\n",
       "      <td>Hypothermia</td>\n",
       "      <td>HIV Infections</td>\n",
       "      <td>2</td>\n",
       "      <td>3.890872</td>\n",
       "    </tr>\n",
       "    <tr>\n",
       "      <td>...</td>\n",
       "      <td>...</td>\n",
       "      <td>...</td>\n",
       "      <td>...</td>\n",
       "      <td>...</td>\n",
       "    </tr>\n",
       "    <tr>\n",
       "      <td>144434</td>\n",
       "      <td>Proteinuria</td>\n",
       "      <td>HIV Infections</td>\n",
       "      <td>57</td>\n",
       "      <td>71.191733</td>\n",
       "    </tr>\n",
       "    <tr>\n",
       "      <td>145401</td>\n",
       "      <td>Albuminuria</td>\n",
       "      <td>HIV Infections</td>\n",
       "      <td>16</td>\n",
       "      <td>33.041387</td>\n",
       "    </tr>\n",
       "    <tr>\n",
       "      <td>145934</td>\n",
       "      <td>Hemoglobinuria</td>\n",
       "      <td>HIV Infections</td>\n",
       "      <td>1</td>\n",
       "      <td>2.883522</td>\n",
       "    </tr>\n",
       "    <tr>\n",
       "      <td>146322</td>\n",
       "      <td>Urinary Incontinence</td>\n",
       "      <td>HIV Infections</td>\n",
       "      <td>1</td>\n",
       "      <td>1.617529</td>\n",
       "    </tr>\n",
       "    <tr>\n",
       "      <td>147384</td>\n",
       "      <td>Virilism</td>\n",
       "      <td>HIV Infections</td>\n",
       "      <td>1</td>\n",
       "      <td>2.227056</td>\n",
       "    </tr>\n",
       "  </tbody>\n",
       "</table>\n",
       "<p>187 rows × 4 columns</p>\n",
       "</div>"
      ],
      "text/plain": [
       "              MeSH Symptom Term MeSH Disease Term  PubMed occurrence  \\\n",
       "2              Aging, Premature    HIV Infections                  3   \n",
       "180                    Asthenia    HIV Infections                  4   \n",
       "1044                      Fever    HIV Infections                153   \n",
       "3075    Fever of Unknown Origin    HIV Infections                 59   \n",
       "3892                Hypothermia    HIV Infections                  2   \n",
       "...                         ...               ...                ...   \n",
       "144434              Proteinuria    HIV Infections                 57   \n",
       "145401              Albuminuria    HIV Infections                 16   \n",
       "145934           Hemoglobinuria    HIV Infections                  1   \n",
       "146322     Urinary Incontinence    HIV Infections                  1   \n",
       "147384                 Virilism    HIV Infections                  1   \n",
       "\n",
       "        TFIDF score  \n",
       "2         10.393654  \n",
       "180        8.252877  \n",
       "1044      94.697458  \n",
       "3075      86.916140  \n",
       "3892       3.890872  \n",
       "...             ...  \n",
       "144434    71.191733  \n",
       "145401    33.041387  \n",
       "145934     2.883522  \n",
       "146322     1.617529  \n",
       "147384     2.227056  \n",
       "\n",
       "[187 rows x 4 columns]"
      ]
     },
     "execution_count": 32,
     "metadata": {},
     "output_type": "execute_result"
    }
   ],
   "source": [
    "network[network['MeSH Disease Term'] == 'HIV Infections']"
   ]
  },
  {
   "cell_type": "code",
   "execution_count": null,
   "metadata": {},
   "outputs": [],
   "source": []
  }
 ],
 "metadata": {
  "kernelspec": {
   "display_name": "Python 3",
   "language": "python",
   "name": "python3"
  },
  "language_info": {
   "codemirror_mode": {
    "name": "ipython",
    "version": 3
   },
   "file_extension": ".py",
   "mimetype": "text/x-python",
   "name": "python",
   "nbconvert_exporter": "python",
   "pygments_lexer": "ipython3",
   "version": "3.7.4"
  }
 },
 "nbformat": 4,
 "nbformat_minor": 2
}
