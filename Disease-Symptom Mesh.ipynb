{
 "cells": [
  {
   "cell_type": "code",
   "execution_count": 1,
   "metadata": {
    "collapsed": false
   },
   "outputs": [],
   "source": [
    "import re\n",
    "import pandas as pd\n",
    "import requests"
   ]
  },
  {
   "cell_type": "code",
   "execution_count": 2,
   "metadata": {
    "collapsed": true
   },
   "outputs": [],
   "source": [
    "MeSH_url = 'http://www.nlm.nih.gov/cgi/mesh/2015/MB_cgi?mode=&term='"
   ]
  },
  {
   "cell_type": "code",
   "execution_count": 3,
   "metadata": {
    "collapsed": true
   },
   "outputs": [],
   "source": [
    "# takes in a disease and finds the corresponding MeSH disease ID\n",
    "def MeSH_disease_match(disease):\n",
    "    disease_edit = disease.replace(' ', '+')\n",
    "    url = MeSH_url + disease_edit\n",
    "    returned = requests.get(url)\n",
    "    returned = returned.text\n",
    "    sub_returned = re.search('Unique ID</TH><TD colspan=1>(.+?)<', returned)\n",
    "    try:\n",
    "        sub_returned = sub_returned.group(1)\n",
    "        returned_list = [disease, sub_returned]\n",
    "        return(returned_list)\n",
    "    except:\n",
    "        returned_list = [disease, '']\n",
    "        return(returned_list)\n",
    "\n",
    "# takes in a symptom and finds the corresponding MeSH symptom ID\n",
    "def MeSH_symptom_match(symptom):\n",
    "    symptom_edit = symptom.replace(' ', '+')\n",
    "    url = MeSH_url + symptom_edit\n",
    "    returned = requests.get(url)\n",
    "    returned = returned.text\n",
    "    sub_returned = re.search('Unique ID</TH><TD colspan=1>(.+?)<', returned)\n",
    "    try:\n",
    "        sub_returned = sub_returned.group(1)\n",
    "        returned_list = [symptom, sub_returned]\n",
    "        return(returned_list)\n",
    "    except:\n",
    "        returned_list = [symptom, '']\n",
    "        return(returned_list)"
   ]
  },
  {
   "cell_type": "code",
   "execution_count": 4,
   "metadata": {
    "collapsed": false
   },
   "outputs": [],
   "source": [
    "# functions to extract the list of diseases & symptoms from the input files\n",
    "def MeSH_disease_extract(file):\n",
    "    df = pd.read_csv(file, sep = '\\t', header=0)\n",
    "    sub_df = list(df['MeSH Disease Term'])\n",
    "    return(sub_df)\n",
    "\n",
    "def MeSH_symptom_extract(file):\n",
    "    df = pd.read_csv(file, sep = '\\t', header=0)\n",
    "    sub_df = list(df['MeSH Symptom Term'])\n",
    "    return(sub_df)"
   ]
  },
  {
   "cell_type": "code",
   "execution_count": 5,
   "metadata": {
    "collapsed": false,
    "scrolled": true
   },
   "outputs": [],
   "source": [
    "# creates reference for MeSH disease IDs\n",
    "your_list = MeSH_disease_extract('Disease-Occurence-Input.tsv')\n",
    "output = list(map(MeSH_disease_match, your_list))\n",
    "header = ['MeSH Disease Term', 'MeSH Disease ID']\n",
    "output = pd.DataFrame(output, columns = header)\n",
    "\n",
    "# creates reference for MeSH symptom IDs\n",
    "your_list = MeSH_symptom_extract('Symptom-Occurence-Input.tsv')\n",
    "output2 = list(map(MeSH_symptom_match, your_list))\n",
    "header = ['MeSH Symptom Term', 'MeSH Symptom ID']\n",
    "output2 = pd.DataFrame(output2, columns = header)\n",
    "\n"
   ]
  },
  {
   "cell_type": "code",
   "execution_count": 6,
   "metadata": {
    "collapsed": false
   },
   "outputs": [],
   "source": [
    "# create data frames for each file then merge with the retrieved IDs\n",
    "df_combined = pd.read_csv('Combined-Input.tsv', sep = '\\t', header = 0)\n",
    "df_symptom = pd.read_csv('Symptom-Occurence-Input.tsv', sep = '\\t', header = 0)\n",
    "df_disease = pd.read_csv('Disease-Occurence-Input.tsv', sep = '\\t', header = 0)\n",
    "\n",
    "df_combined = pd.merge(df_combined, output)\n",
    "df_combined = pd.merge(df_combined, output2)\n",
    "df_symptom = pd.merge(df_symptom, output2)\n",
    "df_disease = pd.merge(df_disease, output)"
   ]
  },
  {
   "cell_type": "code",
   "execution_count": 7,
   "metadata": {
    "collapsed": true
   },
   "outputs": [],
   "source": [
    "# write to output files\n",
    "df_combined.to_csv('Combined-Output.tsv', sep = '\\t')\n",
    "df_symptom.to_csv('Symptom-Occurence-Output.tsv', sep = '\\t')\n",
    "df_disease.to_csv('Disease-Occurence-Output.tsv', sep = '\\t')"
   ]
  },
  {
   "cell_type": "code",
   "execution_count": null,
   "metadata": {
    "collapsed": true
   },
   "outputs": [],
   "source": []
  }
 ],
 "metadata": {
  "kernelspec": {
   "display_name": "Python 2",
   "language": "python",
   "name": "python2"
  },
  "language_info": {
   "codemirror_mode": {
    "name": "ipython",
    "version": 2
   },
   "file_extension": ".py",
   "mimetype": "text/x-python",
   "name": "python",
   "nbconvert_exporter": "python",
   "pygments_lexer": "ipython2",
   "version": "2.7.9"
  }
 },
 "nbformat": 4,
 "nbformat_minor": 0
}
